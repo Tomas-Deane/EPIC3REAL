{
 "cells": [
  {
   "cell_type": "markdown",
   "source": [
    "# Import"
   ],
   "metadata": {
    "collapsed": false
   },
   "id": "5f4cfd2b77644dcc"
  },
  {
   "cell_type": "code",
   "outputs": [],
   "source": [
    "import pandas as pd \n",
    "from sklearn.model_selection import train_test_split\n",
    "from sklearn.linear_model import LogisticRegression\n",
    "from sklearn.preprocessing import StandardScaler\n",
    "from sklearn.metrics import confusion_matrix, classification_report\n",
    "from sklearn.preprocessing import LabelEncoder"
   ],
   "metadata": {
    "collapsed": false,
    "ExecuteTime": {
     "end_time": "2024-03-20T10:26:31.629038Z",
     "start_time": "2024-03-20T10:26:31.617088Z"
    }
   },
   "id": "10098d54eb4383c9",
   "execution_count": 43
  },
  {
   "cell_type": "code",
   "outputs": [
    {
     "data": {
      "text/plain": "       HeartDisease    BMI Smoking AlcoholDrinking Stroke  PhysicalHealth  \\\n0                No  16.60     Yes              No     No             3.0   \n1                No  20.34      No              No    Yes             0.0   \n2                No  26.58     Yes              No     No            20.0   \n3                No  24.21      No              No     No             0.0   \n4                No  23.71      No              No     No            28.0   \n...             ...    ...     ...             ...    ...             ...   \n319790          Yes  27.41     Yes              No     No             7.0   \n319791           No  29.84     Yes              No     No             0.0   \n319792           No  24.24      No              No     No             0.0   \n319793           No  32.81      No              No     No             0.0   \n319794           No  46.56      No              No     No             0.0   \n\n        MentalHealth DiffWalking     Sex  AgeCategory      Race Diabetic  \\\n0               30.0          No  Female        55-59     White      Yes   \n1                0.0          No  Female  80 or older     White       No   \n2               30.0          No    Male        65-69     White      Yes   \n3                0.0          No  Female        75-79     White       No   \n4                0.0         Yes  Female        40-44     White       No   \n...              ...         ...     ...          ...       ...      ...   \n319790           0.0         Yes    Male        60-64  Hispanic      Yes   \n319791           0.0          No    Male        35-39  Hispanic       No   \n319792           0.0          No  Female        45-49  Hispanic       No   \n319793           0.0          No  Female        25-29  Hispanic       No   \n319794           0.0          No  Female  80 or older  Hispanic       No   \n\n       PhysicalActivity  GenHealth  SleepTime Asthma KidneyDisease SkinCancer  \n0                   Yes  Very good        5.0    Yes            No        Yes  \n1                   Yes  Very good        7.0     No            No         No  \n2                   Yes       Fair        8.0    Yes            No         No  \n3                    No       Good        6.0     No            No        Yes  \n4                   Yes  Very good        8.0     No            No         No  \n...                 ...        ...        ...    ...           ...        ...  \n319790               No       Fair        6.0    Yes            No         No  \n319791              Yes  Very good        5.0    Yes            No         No  \n319792              Yes       Good        6.0     No            No         No  \n319793               No       Good       12.0     No            No         No  \n319794              Yes       Good        8.0     No            No         No  \n\n[319795 rows x 18 columns]",
      "text/html": "<div>\n<style scoped>\n    .dataframe tbody tr th:only-of-type {\n        vertical-align: middle;\n    }\n\n    .dataframe tbody tr th {\n        vertical-align: top;\n    }\n\n    .dataframe thead th {\n        text-align: right;\n    }\n</style>\n<table border=\"1\" class=\"dataframe\">\n  <thead>\n    <tr style=\"text-align: right;\">\n      <th></th>\n      <th>HeartDisease</th>\n      <th>BMI</th>\n      <th>Smoking</th>\n      <th>AlcoholDrinking</th>\n      <th>Stroke</th>\n      <th>PhysicalHealth</th>\n      <th>MentalHealth</th>\n      <th>DiffWalking</th>\n      <th>Sex</th>\n      <th>AgeCategory</th>\n      <th>Race</th>\n      <th>Diabetic</th>\n      <th>PhysicalActivity</th>\n      <th>GenHealth</th>\n      <th>SleepTime</th>\n      <th>Asthma</th>\n      <th>KidneyDisease</th>\n      <th>SkinCancer</th>\n    </tr>\n  </thead>\n  <tbody>\n    <tr>\n      <th>0</th>\n      <td>No</td>\n      <td>16.60</td>\n      <td>Yes</td>\n      <td>No</td>\n      <td>No</td>\n      <td>3.0</td>\n      <td>30.0</td>\n      <td>No</td>\n      <td>Female</td>\n      <td>55-59</td>\n      <td>White</td>\n      <td>Yes</td>\n      <td>Yes</td>\n      <td>Very good</td>\n      <td>5.0</td>\n      <td>Yes</td>\n      <td>No</td>\n      <td>Yes</td>\n    </tr>\n    <tr>\n      <th>1</th>\n      <td>No</td>\n      <td>20.34</td>\n      <td>No</td>\n      <td>No</td>\n      <td>Yes</td>\n      <td>0.0</td>\n      <td>0.0</td>\n      <td>No</td>\n      <td>Female</td>\n      <td>80 or older</td>\n      <td>White</td>\n      <td>No</td>\n      <td>Yes</td>\n      <td>Very good</td>\n      <td>7.0</td>\n      <td>No</td>\n      <td>No</td>\n      <td>No</td>\n    </tr>\n    <tr>\n      <th>2</th>\n      <td>No</td>\n      <td>26.58</td>\n      <td>Yes</td>\n      <td>No</td>\n      <td>No</td>\n      <td>20.0</td>\n      <td>30.0</td>\n      <td>No</td>\n      <td>Male</td>\n      <td>65-69</td>\n      <td>White</td>\n      <td>Yes</td>\n      <td>Yes</td>\n      <td>Fair</td>\n      <td>8.0</td>\n      <td>Yes</td>\n      <td>No</td>\n      <td>No</td>\n    </tr>\n    <tr>\n      <th>3</th>\n      <td>No</td>\n      <td>24.21</td>\n      <td>No</td>\n      <td>No</td>\n      <td>No</td>\n      <td>0.0</td>\n      <td>0.0</td>\n      <td>No</td>\n      <td>Female</td>\n      <td>75-79</td>\n      <td>White</td>\n      <td>No</td>\n      <td>No</td>\n      <td>Good</td>\n      <td>6.0</td>\n      <td>No</td>\n      <td>No</td>\n      <td>Yes</td>\n    </tr>\n    <tr>\n      <th>4</th>\n      <td>No</td>\n      <td>23.71</td>\n      <td>No</td>\n      <td>No</td>\n      <td>No</td>\n      <td>28.0</td>\n      <td>0.0</td>\n      <td>Yes</td>\n      <td>Female</td>\n      <td>40-44</td>\n      <td>White</td>\n      <td>No</td>\n      <td>Yes</td>\n      <td>Very good</td>\n      <td>8.0</td>\n      <td>No</td>\n      <td>No</td>\n      <td>No</td>\n    </tr>\n    <tr>\n      <th>...</th>\n      <td>...</td>\n      <td>...</td>\n      <td>...</td>\n      <td>...</td>\n      <td>...</td>\n      <td>...</td>\n      <td>...</td>\n      <td>...</td>\n      <td>...</td>\n      <td>...</td>\n      <td>...</td>\n      <td>...</td>\n      <td>...</td>\n      <td>...</td>\n      <td>...</td>\n      <td>...</td>\n      <td>...</td>\n      <td>...</td>\n    </tr>\n    <tr>\n      <th>319790</th>\n      <td>Yes</td>\n      <td>27.41</td>\n      <td>Yes</td>\n      <td>No</td>\n      <td>No</td>\n      <td>7.0</td>\n      <td>0.0</td>\n      <td>Yes</td>\n      <td>Male</td>\n      <td>60-64</td>\n      <td>Hispanic</td>\n      <td>Yes</td>\n      <td>No</td>\n      <td>Fair</td>\n      <td>6.0</td>\n      <td>Yes</td>\n      <td>No</td>\n      <td>No</td>\n    </tr>\n    <tr>\n      <th>319791</th>\n      <td>No</td>\n      <td>29.84</td>\n      <td>Yes</td>\n      <td>No</td>\n      <td>No</td>\n      <td>0.0</td>\n      <td>0.0</td>\n      <td>No</td>\n      <td>Male</td>\n      <td>35-39</td>\n      <td>Hispanic</td>\n      <td>No</td>\n      <td>Yes</td>\n      <td>Very good</td>\n      <td>5.0</td>\n      <td>Yes</td>\n      <td>No</td>\n      <td>No</td>\n    </tr>\n    <tr>\n      <th>319792</th>\n      <td>No</td>\n      <td>24.24</td>\n      <td>No</td>\n      <td>No</td>\n      <td>No</td>\n      <td>0.0</td>\n      <td>0.0</td>\n      <td>No</td>\n      <td>Female</td>\n      <td>45-49</td>\n      <td>Hispanic</td>\n      <td>No</td>\n      <td>Yes</td>\n      <td>Good</td>\n      <td>6.0</td>\n      <td>No</td>\n      <td>No</td>\n      <td>No</td>\n    </tr>\n    <tr>\n      <th>319793</th>\n      <td>No</td>\n      <td>32.81</td>\n      <td>No</td>\n      <td>No</td>\n      <td>No</td>\n      <td>0.0</td>\n      <td>0.0</td>\n      <td>No</td>\n      <td>Female</td>\n      <td>25-29</td>\n      <td>Hispanic</td>\n      <td>No</td>\n      <td>No</td>\n      <td>Good</td>\n      <td>12.0</td>\n      <td>No</td>\n      <td>No</td>\n      <td>No</td>\n    </tr>\n    <tr>\n      <th>319794</th>\n      <td>No</td>\n      <td>46.56</td>\n      <td>No</td>\n      <td>No</td>\n      <td>No</td>\n      <td>0.0</td>\n      <td>0.0</td>\n      <td>No</td>\n      <td>Female</td>\n      <td>80 or older</td>\n      <td>Hispanic</td>\n      <td>No</td>\n      <td>Yes</td>\n      <td>Good</td>\n      <td>8.0</td>\n      <td>No</td>\n      <td>No</td>\n      <td>No</td>\n    </tr>\n  </tbody>\n</table>\n<p>319795 rows × 18 columns</p>\n</div>"
     },
     "execution_count": 19,
     "metadata": {},
     "output_type": "execute_result"
    }
   ],
   "source": [
    "data = pd.read_csv('heart_data.csv')\n",
    "data"
   ],
   "metadata": {
    "collapsed": false,
    "ExecuteTime": {
     "end_time": "2024-03-19T23:39:46.995487Z",
     "start_time": "2024-03-19T23:39:46.707323Z"
    }
   },
   "id": "62db080c3c603ba8",
   "execution_count": 19
  },
  {
   "cell_type": "code",
   "outputs": [
    {
     "data": {
      "text/plain": "Index(['HeartDisease', 'Smoking', 'AlcoholDrinking', 'Stroke', 'DiffWalking',\n       'Sex', 'AgeCategory', 'Race', 'Diabetic', 'PhysicalActivity',\n       'GenHealth', 'Asthma', 'KidneyDisease', 'SkinCancer'],\n      dtype='object')"
     },
     "execution_count": 32,
     "metadata": {},
     "output_type": "execute_result"
    }
   ],
   "source": [
    "categorical = data.select_dtypes(include = object)\n",
    "categorical.columns"
   ],
   "metadata": {
    "collapsed": false,
    "ExecuteTime": {
     "end_time": "2024-03-20T10:22:53.815778Z",
     "start_time": "2024-03-20T10:22:53.772597Z"
    }
   },
   "id": "7dcbe375d1dcea94",
   "execution_count": 32
  },
  {
   "cell_type": "code",
   "outputs": [],
   "source": [
    "df1= data.copy()"
   ],
   "metadata": {
    "collapsed": false,
    "ExecuteTime": {
     "end_time": "2024-03-20T10:23:01.440929Z",
     "start_time": "2024-03-20T10:23:01.388041Z"
    }
   },
   "id": "f6b43992d741e94",
   "execution_count": 33
  },
  {
   "cell_type": "code",
   "outputs": [
    {
     "data": {
      "text/plain": "HeartDisease         object\nBMI                 float64\nSmoking              object\nAlcoholDrinking      object\nStroke               object\nPhysicalHealth      float64\nMentalHealth        float64\nDiffWalking          object\nSex                  object\nAgeCategory          object\nRace                 object\nDiabetic             object\nPhysicalActivity     object\nGenHealth            object\nSleepTime           float64\nAsthma               object\nKidneyDisease        object\nSkinCancer           object\ndtype: object"
     },
     "execution_count": 34,
     "metadata": {},
     "output_type": "execute_result"
    }
   ],
   "source": [
    "data.dtypes"
   ],
   "metadata": {
    "collapsed": false,
    "ExecuteTime": {
     "end_time": "2024-03-20T10:23:03.107086Z",
     "start_time": "2024-03-20T10:23:03.102051Z"
    }
   },
   "id": "3aed99f61e816b71",
   "execution_count": 34
  },
  {
   "cell_type": "code",
   "outputs": [
    {
     "data": {
      "text/plain": "array(['White', 'Black', 'Asian', 'American Indian/Alaskan Native',\n       'Other', 'Hispanic'], dtype=object)"
     },
     "execution_count": 35,
     "metadata": {},
     "output_type": "execute_result"
    }
   ],
   "source": [
    "data['Race'].unique()"
   ],
   "metadata": {
    "collapsed": false,
    "ExecuteTime": {
     "end_time": "2024-03-20T10:23:05.626678Z",
     "start_time": "2024-03-20T10:23:05.619597Z"
    }
   },
   "id": "7bf0bf711563e9a6",
   "execution_count": 35
  },
  {
   "cell_type": "code",
   "outputs": [
    {
     "data": {
      "text/plain": "array(['Very good', 'Fair', 'Good', 'Poor', 'Excellent'], dtype=object)"
     },
     "execution_count": 36,
     "metadata": {},
     "output_type": "execute_result"
    }
   ],
   "source": [
    "data['GenHealth'].unique()"
   ],
   "metadata": {
    "collapsed": false,
    "ExecuteTime": {
     "end_time": "2024-03-20T10:23:06.449599Z",
     "start_time": "2024-03-20T10:23:06.436615Z"
    }
   },
   "id": "978c477e9c114ca3",
   "execution_count": 36
  },
  {
   "cell_type": "code",
   "outputs": [],
   "source": [
    "le = LabelEncoder()"
   ],
   "metadata": {
    "collapsed": false,
    "ExecuteTime": {
     "end_time": "2024-03-20T10:23:07.704943Z",
     "start_time": "2024-03-20T10:23:07.695866Z"
    }
   },
   "id": "4c1a6613c2fdf797",
   "execution_count": 37
  },
  {
   "cell_type": "code",
   "outputs": [
    {
     "name": "stdout",
     "output_type": "stream",
     "text": [
      "HeartDisease\n",
      "Smoking\n",
      "AlcoholDrinking\n",
      "Stroke\n",
      "DiffWalking\n",
      "Sex\n",
      "AgeCategory\n",
      "Race\n",
      "Diabetic\n",
      "PhysicalActivity\n",
      "GenHealth\n",
      "Asthma\n",
      "KidneyDisease\n",
      "SkinCancer\n"
     ]
    }
   ],
   "source": [
    "i =1 \n",
    "for feature in categorical:\n",
    "    df1[feature] = le.fit_transform(df1[feature])\n",
    "    i += 1\n",
    "    print(feature)"
   ],
   "metadata": {
    "collapsed": false,
    "ExecuteTime": {
     "end_time": "2024-03-20T10:23:08.868351Z",
     "start_time": "2024-03-20T10:23:08.519403Z"
    }
   },
   "id": "802a7310d94e7e7f",
   "execution_count": 38
  },
  {
   "cell_type": "code",
   "outputs": [
    {
     "data": {
      "text/plain": "HeartDisease          int64\nBMI                 float64\nSmoking               int64\nAlcoholDrinking       int64\nStroke                int64\nPhysicalHealth      float64\nMentalHealth        float64\nDiffWalking           int64\nSex                   int64\nAgeCategory           int64\nRace                  int64\nDiabetic              int64\nPhysicalActivity      int64\nGenHealth             int64\nSleepTime           float64\nAsthma                int64\nKidneyDisease         int64\nSkinCancer            int64\ndtype: object"
     },
     "execution_count": 39,
     "metadata": {},
     "output_type": "execute_result"
    }
   ],
   "source": [
    "df1.dtypes"
   ],
   "metadata": {
    "collapsed": false,
    "ExecuteTime": {
     "end_time": "2024-03-20T10:23:24.727278Z",
     "start_time": "2024-03-20T10:23:24.719192Z"
    }
   },
   "id": "ab62c1df0dba39a0",
   "execution_count": 39
  },
  {
   "cell_type": "code",
   "outputs": [
    {
     "data": {
      "text/plain": "   HeartDisease    BMI  Smoking  AlcoholDrinking  Stroke  PhysicalHealth  \\\n0             0  16.60        1                0       0             3.0   \n1             0  20.34        0                0       1             0.0   \n2             0  26.58        1                0       0            20.0   \n3             0  24.21        0                0       0             0.0   \n4             0  23.71        0                0       0            28.0   \n\n   MentalHealth  DiffWalking  Sex  AgeCategory  Race  Diabetic  \\\n0          30.0            0    0            7     5         2   \n1           0.0            0    0           12     5         0   \n2          30.0            0    1            9     5         2   \n3           0.0            0    0           11     5         0   \n4           0.0            1    0            4     5         0   \n\n   PhysicalActivity  GenHealth  SleepTime  Asthma  KidneyDisease  SkinCancer  \n0                 1          4        5.0       1              0           1  \n1                 1          4        7.0       0              0           0  \n2                 1          1        8.0       1              0           0  \n3                 0          2        6.0       0              0           1  \n4                 1          4        8.0       0              0           0  ",
      "text/html": "<div>\n<style scoped>\n    .dataframe tbody tr th:only-of-type {\n        vertical-align: middle;\n    }\n\n    .dataframe tbody tr th {\n        vertical-align: top;\n    }\n\n    .dataframe thead th {\n        text-align: right;\n    }\n</style>\n<table border=\"1\" class=\"dataframe\">\n  <thead>\n    <tr style=\"text-align: right;\">\n      <th></th>\n      <th>HeartDisease</th>\n      <th>BMI</th>\n      <th>Smoking</th>\n      <th>AlcoholDrinking</th>\n      <th>Stroke</th>\n      <th>PhysicalHealth</th>\n      <th>MentalHealth</th>\n      <th>DiffWalking</th>\n      <th>Sex</th>\n      <th>AgeCategory</th>\n      <th>Race</th>\n      <th>Diabetic</th>\n      <th>PhysicalActivity</th>\n      <th>GenHealth</th>\n      <th>SleepTime</th>\n      <th>Asthma</th>\n      <th>KidneyDisease</th>\n      <th>SkinCancer</th>\n    </tr>\n  </thead>\n  <tbody>\n    <tr>\n      <th>0</th>\n      <td>0</td>\n      <td>16.60</td>\n      <td>1</td>\n      <td>0</td>\n      <td>0</td>\n      <td>3.0</td>\n      <td>30.0</td>\n      <td>0</td>\n      <td>0</td>\n      <td>7</td>\n      <td>5</td>\n      <td>2</td>\n      <td>1</td>\n      <td>4</td>\n      <td>5.0</td>\n      <td>1</td>\n      <td>0</td>\n      <td>1</td>\n    </tr>\n    <tr>\n      <th>1</th>\n      <td>0</td>\n      <td>20.34</td>\n      <td>0</td>\n      <td>0</td>\n      <td>1</td>\n      <td>0.0</td>\n      <td>0.0</td>\n      <td>0</td>\n      <td>0</td>\n      <td>12</td>\n      <td>5</td>\n      <td>0</td>\n      <td>1</td>\n      <td>4</td>\n      <td>7.0</td>\n      <td>0</td>\n      <td>0</td>\n      <td>0</td>\n    </tr>\n    <tr>\n      <th>2</th>\n      <td>0</td>\n      <td>26.58</td>\n      <td>1</td>\n      <td>0</td>\n      <td>0</td>\n      <td>20.0</td>\n      <td>30.0</td>\n      <td>0</td>\n      <td>1</td>\n      <td>9</td>\n      <td>5</td>\n      <td>2</td>\n      <td>1</td>\n      <td>1</td>\n      <td>8.0</td>\n      <td>1</td>\n      <td>0</td>\n      <td>0</td>\n    </tr>\n    <tr>\n      <th>3</th>\n      <td>0</td>\n      <td>24.21</td>\n      <td>0</td>\n      <td>0</td>\n      <td>0</td>\n      <td>0.0</td>\n      <td>0.0</td>\n      <td>0</td>\n      <td>0</td>\n      <td>11</td>\n      <td>5</td>\n      <td>0</td>\n      <td>0</td>\n      <td>2</td>\n      <td>6.0</td>\n      <td>0</td>\n      <td>0</td>\n      <td>1</td>\n    </tr>\n    <tr>\n      <th>4</th>\n      <td>0</td>\n      <td>23.71</td>\n      <td>0</td>\n      <td>0</td>\n      <td>0</td>\n      <td>28.0</td>\n      <td>0.0</td>\n      <td>1</td>\n      <td>0</td>\n      <td>4</td>\n      <td>5</td>\n      <td>0</td>\n      <td>1</td>\n      <td>4</td>\n      <td>8.0</td>\n      <td>0</td>\n      <td>0</td>\n      <td>0</td>\n    </tr>\n  </tbody>\n</table>\n</div>"
     },
     "execution_count": 40,
     "metadata": {},
     "output_type": "execute_result"
    }
   ],
   "source": [
    "df1.head()"
   ],
   "metadata": {
    "collapsed": false,
    "ExecuteTime": {
     "end_time": "2024-03-20T10:23:37.911959Z",
     "start_time": "2024-03-20T10:23:37.902404Z"
    }
   },
   "id": "2cb3eb142621f182",
   "execution_count": 40
  },
  {
   "cell_type": "code",
   "outputs": [],
   "source": [
    "X=df1.drop('HeartDisease', axis=1)\n",
    "y=df1['HeartDisease']\n",
    "X_train, X_test, y_train, y_test = train_test_split(X, y, \n",
    "test_size=0.2, stratify=df1['HeartDisease'])"
   ],
   "metadata": {
    "collapsed": false,
    "ExecuteTime": {
     "end_time": "2024-03-20T10:25:26.309226Z",
     "start_time": "2024-03-20T10:25:26.215915Z"
    }
   },
   "id": "5581182579d2c2b2",
   "execution_count": 41
  },
  {
   "cell_type": "code",
   "outputs": [],
   "source": [
    "ss = StandardScaler()\n",
    "X_train = ss.fit_transform(X_train)\n",
    "X_test = ss.transform(X_test)"
   ],
   "metadata": {
    "collapsed": false,
    "ExecuteTime": {
     "end_time": "2024-03-20T10:26:35.855091Z",
     "start_time": "2024-03-20T10:26:35.812814Z"
    }
   },
   "id": "bedd9af754c40fd7",
   "execution_count": 44
  },
  {
   "cell_type": "code",
   "outputs": [
    {
     "data": {
      "text/plain": "LogisticRegression()",
      "text/html": "<style>#sk-container-id-1 {color: black;}#sk-container-id-1 pre{padding: 0;}#sk-container-id-1 div.sk-toggleable {background-color: white;}#sk-container-id-1 label.sk-toggleable__label {cursor: pointer;display: block;width: 100%;margin-bottom: 0;padding: 0.3em;box-sizing: border-box;text-align: center;}#sk-container-id-1 label.sk-toggleable__label-arrow:before {content: \"▸\";float: left;margin-right: 0.25em;color: #696969;}#sk-container-id-1 label.sk-toggleable__label-arrow:hover:before {color: black;}#sk-container-id-1 div.sk-estimator:hover label.sk-toggleable__label-arrow:before {color: black;}#sk-container-id-1 div.sk-toggleable__content {max-height: 0;max-width: 0;overflow: hidden;text-align: left;background-color: #f0f8ff;}#sk-container-id-1 div.sk-toggleable__content pre {margin: 0.2em;color: black;border-radius: 0.25em;background-color: #f0f8ff;}#sk-container-id-1 input.sk-toggleable__control:checked~div.sk-toggleable__content {max-height: 200px;max-width: 100%;overflow: auto;}#sk-container-id-1 input.sk-toggleable__control:checked~label.sk-toggleable__label-arrow:before {content: \"▾\";}#sk-container-id-1 div.sk-estimator input.sk-toggleable__control:checked~label.sk-toggleable__label {background-color: #d4ebff;}#sk-container-id-1 div.sk-label input.sk-toggleable__control:checked~label.sk-toggleable__label {background-color: #d4ebff;}#sk-container-id-1 input.sk-hidden--visually {border: 0;clip: rect(1px 1px 1px 1px);clip: rect(1px, 1px, 1px, 1px);height: 1px;margin: -1px;overflow: hidden;padding: 0;position: absolute;width: 1px;}#sk-container-id-1 div.sk-estimator {font-family: monospace;background-color: #f0f8ff;border: 1px dotted black;border-radius: 0.25em;box-sizing: border-box;margin-bottom: 0.5em;}#sk-container-id-1 div.sk-estimator:hover {background-color: #d4ebff;}#sk-container-id-1 div.sk-parallel-item::after {content: \"\";width: 100%;border-bottom: 1px solid gray;flex-grow: 1;}#sk-container-id-1 div.sk-label:hover label.sk-toggleable__label {background-color: #d4ebff;}#sk-container-id-1 div.sk-serial::before {content: \"\";position: absolute;border-left: 1px solid gray;box-sizing: border-box;top: 0;bottom: 0;left: 50%;z-index: 0;}#sk-container-id-1 div.sk-serial {display: flex;flex-direction: column;align-items: center;background-color: white;padding-right: 0.2em;padding-left: 0.2em;position: relative;}#sk-container-id-1 div.sk-item {position: relative;z-index: 1;}#sk-container-id-1 div.sk-parallel {display: flex;align-items: stretch;justify-content: center;background-color: white;position: relative;}#sk-container-id-1 div.sk-item::before, #sk-container-id-1 div.sk-parallel-item::before {content: \"\";position: absolute;border-left: 1px solid gray;box-sizing: border-box;top: 0;bottom: 0;left: 50%;z-index: -1;}#sk-container-id-1 div.sk-parallel-item {display: flex;flex-direction: column;z-index: 1;position: relative;background-color: white;}#sk-container-id-1 div.sk-parallel-item:first-child::after {align-self: flex-end;width: 50%;}#sk-container-id-1 div.sk-parallel-item:last-child::after {align-self: flex-start;width: 50%;}#sk-container-id-1 div.sk-parallel-item:only-child::after {width: 0;}#sk-container-id-1 div.sk-dashed-wrapped {border: 1px dashed gray;margin: 0 0.4em 0.5em 0.4em;box-sizing: border-box;padding-bottom: 0.4em;background-color: white;}#sk-container-id-1 div.sk-label label {font-family: monospace;font-weight: bold;display: inline-block;line-height: 1.2em;}#sk-container-id-1 div.sk-label-container {text-align: center;}#sk-container-id-1 div.sk-container {/* jupyter's `normalize.less` sets `[hidden] { display: none; }` but bootstrap.min.css set `[hidden] { display: none !important; }` so we also need the `!important` here to be able to override the default hidden behavior on the sphinx rendered scikit-learn.org. See: https://github.com/scikit-learn/scikit-learn/issues/21755 */display: inline-block !important;position: relative;}#sk-container-id-1 div.sk-text-repr-fallback {display: none;}</style><div id=\"sk-container-id-1\" class=\"sk-top-container\"><div class=\"sk-text-repr-fallback\"><pre>LogisticRegression()</pre><b>In a Jupyter environment, please rerun this cell to show the HTML representation or trust the notebook. <br />On GitHub, the HTML representation is unable to render, please try loading this page with nbviewer.org.</b></div><div class=\"sk-container\" hidden><div class=\"sk-item\"><div class=\"sk-estimator sk-toggleable\"><input class=\"sk-toggleable__control sk-hidden--visually\" id=\"sk-estimator-id-1\" type=\"checkbox\" checked><label for=\"sk-estimator-id-1\" class=\"sk-toggleable__label sk-toggleable__label-arrow\">LogisticRegression</label><div class=\"sk-toggleable__content\"><pre>LogisticRegression()</pre></div></div></div></div></div>"
     },
     "execution_count": 45,
     "metadata": {},
     "output_type": "execute_result"
    }
   ],
   "source": [
    "log_reg = LogisticRegression()\n",
    "log_reg.fit(X_train, y_train)"
   ],
   "metadata": {
    "collapsed": false,
    "ExecuteTime": {
     "end_time": "2024-03-20T10:27:00.238638Z",
     "start_time": "2024-03-20T10:27:00.143454Z"
    }
   },
   "id": "5efe337e21e8c8ef",
   "execution_count": 45
  },
  {
   "cell_type": "code",
   "outputs": [
    {
     "data": {
      "text/plain": "0.9151761284572929"
     },
     "execution_count": 46,
     "metadata": {},
     "output_type": "execute_result"
    }
   ],
   "source": [
    "#Checking accuracy\n",
    "acc=log_reg.score(X_train, y_train)\n",
    "acc"
   ],
   "metadata": {
    "collapsed": false,
    "ExecuteTime": {
     "end_time": "2024-03-20T10:27:28.134990Z",
     "start_time": "2024-03-20T10:27:28.116435Z"
    }
   },
   "id": "2fa50f5eb5651fd3",
   "execution_count": 46
  },
  {
   "cell_type": "code",
   "outputs": [],
   "source": [
    "#Checking for prediction Results\n",
    "y_pred = log_reg.predict(X_test)"
   ],
   "metadata": {
    "collapsed": false,
    "ExecuteTime": {
     "end_time": "2024-03-20T10:28:18.796575Z",
     "start_time": "2024-03-20T10:28:18.779888Z"
    }
   },
   "id": "8c0302661582b145",
   "execution_count": 47
  },
  {
   "cell_type": "code",
   "outputs": [
    {
     "data": {
      "text/plain": "(array([[ 0.09620974,  0.21242369, -0.0645941 ,  0.2196994 ,  0.17245014,\n          0.08689777,  0.13887882,  0.36978291,  1.01226153,  0.04010461,\n          0.21232508, -0.03399599, -0.04440726, -0.05383273,  0.11414235,\n          0.13067352,  0.04061534]]),\n array([-3.06535837]))"
     },
     "execution_count": 48,
     "metadata": {},
     "output_type": "execute_result"
    }
   ],
   "source": [
    "log_reg.coef_, log_reg.intercept_"
   ],
   "metadata": {
    "collapsed": false,
    "ExecuteTime": {
     "end_time": "2024-03-20T10:28:35.135063Z",
     "start_time": "2024-03-20T10:28:35.128564Z"
    }
   },
   "id": "8e2ae6b42fcaf3b0",
   "execution_count": 48
  },
  {
   "cell_type": "code",
   "outputs": [],
   "source": [
    "colun_labels = X.columns.tolist()\n",
    "coef = log_reg.coef_.squeeze().tolist()\n",
    "intercept=log_reg.intercept_.squeeze().tolist()"
   ],
   "metadata": {
    "collapsed": false,
    "ExecuteTime": {
     "end_time": "2024-03-20T10:30:08.238836Z",
     "start_time": "2024-03-20T10:30:08.231150Z"
    }
   },
   "id": "11d470628c96de28",
   "execution_count": 49
  },
  {
   "cell_type": "code",
   "outputs": [
    {
     "name": "stdout",
     "output_type": "stream",
     "text": [
      "('BMI', 0.09620973692624525) -3.0653583657160204\n",
      "('Smoking', 0.21242368579687088) -3.0653583657160204\n",
      "('AlcoholDrinking', -0.06459410305047919) -3.0653583657160204\n",
      "('Stroke', 0.21969939600617477) -3.0653583657160204\n",
      "('PhysicalHealth', 0.17245013572732062) -3.0653583657160204\n",
      "('MentalHealth', 0.08689777045564019) -3.0653583657160204\n",
      "('DiffWalking', 0.13887882283302708) -3.0653583657160204\n",
      "('Sex', 0.3697829108483386) -3.0653583657160204\n",
      "('AgeCategory', 1.0122615284444525) -3.0653583657160204\n",
      "('Race', 0.04010461145336212) -3.0653583657160204\n",
      "('Diabetic', 0.21232507933893802) -3.0653583657160204\n",
      "('PhysicalActivity', -0.03399598675194567) -3.0653583657160204\n",
      "('GenHealth', -0.044407263075613906) -3.0653583657160204\n",
      "('SleepTime', -0.053832733104814255) -3.0653583657160204\n",
      "('Asthma', 0.11414234975905269) -3.0653583657160204\n",
      "('KidneyDisease', 0.13067352316123748) -3.0653583657160204\n",
      "('SkinCancer', 0.040615336971300715) -3.0653583657160204\n"
     ]
    }
   ],
   "source": [
    "labels_coef = list(zip(colun_labels, coef))\n",
    "for i in labels_coef:\n",
    "    print(i, intercept)"
   ],
   "metadata": {
    "collapsed": false,
    "ExecuteTime": {
     "end_time": "2024-03-20T10:30:55.736247Z",
     "start_time": "2024-03-20T10:30:55.732079Z"
    }
   },
   "id": "c22c926f1936e681",
   "execution_count": 51
  },
  {
   "cell_type": "code",
   "outputs": [],
   "source": [],
   "metadata": {
    "collapsed": false
   },
   "id": "5c3e97b66742f83b"
  },
  {
   "cell_type": "markdown",
   "source": [
    "# Metrics"
   ],
   "metadata": {
    "collapsed": false
   },
   "id": "ec676c9e30f85988"
  },
  {
   "cell_type": "code",
   "outputs": [
    {
     "data": {
      "text/plain": "0.914367016369862"
     },
     "execution_count": 52,
     "metadata": {},
     "output_type": "execute_result"
    }
   ],
   "source": [
    "#Model accuracy \n",
    "accuracy = log_reg.score(X_test, y_test)\n",
    "accuracy"
   ],
   "metadata": {
    "collapsed": false,
    "ExecuteTime": {
     "end_time": "2024-03-20T10:37:17.089934Z",
     "start_time": "2024-03-20T10:37:17.077268Z"
    }
   },
   "id": "756eb4b27d005def",
   "execution_count": 52
  },
  {
   "cell_type": "code",
   "outputs": [
    {
     "data": {
      "text/plain": "array([[57997,   487],\n       [ 4990,   485]])"
     },
     "execution_count": 53,
     "metadata": {},
     "output_type": "execute_result"
    }
   ],
   "source": [
    "confusion_matrix(y_test, y_pred)"
   ],
   "metadata": {
    "collapsed": false,
    "ExecuteTime": {
     "end_time": "2024-03-20T10:37:46.703691Z",
     "start_time": "2024-03-20T10:37:46.697101Z"
    }
   },
   "id": "6479f5c0bca2c33c",
   "execution_count": 53
  },
  {
   "cell_type": "code",
   "outputs": [
    {
     "name": "stdout",
     "output_type": "stream",
     "text": [
      "              precision    recall  f1-score   support\n",
      "\n",
      "           0       0.92      0.99      0.95     58484\n",
      "           1       0.50      0.09      0.15      5475\n",
      "\n",
      "    accuracy                           0.91     63959\n",
      "   macro avg       0.71      0.54      0.55     63959\n",
      "weighted avg       0.88      0.91      0.89     63959\n"
     ]
    }
   ],
   "source": [
    "print(classification_report(y_test, y_pred))"
   ],
   "metadata": {
    "collapsed": false,
    "ExecuteTime": {
     "end_time": "2024-03-20T10:38:16.769892Z",
     "start_time": "2024-03-20T10:38:16.716551Z"
    }
   },
   "id": "4501f507c756cb54",
   "execution_count": 54
  },
  {
   "cell_type": "code",
   "outputs": [],
   "source": [],
   "metadata": {
    "collapsed": false
   },
   "id": "d86df44b7a35ce39"
  }
 ],
 "metadata": {
  "kernelspec": {
   "display_name": "Python 3",
   "language": "python",
   "name": "python3"
  },
  "language_info": {
   "codemirror_mode": {
    "name": "ipython",
    "version": 2
   },
   "file_extension": ".py",
   "mimetype": "text/x-python",
   "name": "python",
   "nbconvert_exporter": "python",
   "pygments_lexer": "ipython2",
   "version": "2.7.6"
  }
 },
 "nbformat": 4,
 "nbformat_minor": 5
}
